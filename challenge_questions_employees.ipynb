{
 "cells": [
  {
   "cell_type": "markdown",
   "id": "fad1607b",
   "metadata": {},
   "source": [
    "# Challenge Questions - Employees Dataset"
   ]
  },
  {
   "cell_type": "markdown",
   "id": "a216156e",
   "metadata": {},
   "source": [
    "# "
   ]
  },
  {
   "cell_type": "markdown",
   "id": "620b8fa0",
   "metadata": {},
   "source": [
    "## Import pandas, numpy and datetime"
   ]
  },
  {
   "cell_type": "code",
   "execution_count": 1,
   "id": "07f42443",
   "metadata": {},
   "outputs": [],
   "source": [
    "import pandas as pd\n",
    "import numpy as np"
   ]
  },
  {
   "cell_type": "code",
   "execution_count": 2,
   "id": "651723ec",
   "metadata": {},
   "outputs": [],
   "source": [
    "import datetime as dt"
   ]
  },
  {
   "cell_type": "markdown",
   "id": "8a051f6a",
   "metadata": {},
   "source": [
    "## Load the files:\n",
    "• \"employees.csv\" should be assigned to the variable **emp**\n",
    "\n",
    "• \"departments.csv\" should be assigned to the variable **dept**\n",
    "\n",
    "• \"salaries.csv\" should be assigned to the variable **sal**"
   ]
  },
  {
   "cell_type": "code",
   "execution_count": 3,
   "id": "e8a11608",
   "metadata": {},
   "outputs": [],
   "source": [
    "emp=pd.read_csv('employees.csv')"
   ]
  },
  {
   "cell_type": "code",
   "execution_count": 4,
   "id": "76486a7a",
   "metadata": {},
   "outputs": [],
   "source": [
    "dept=pd.read_csv('departments.csv')"
   ]
  },
  {
   "cell_type": "code",
   "execution_count": 5,
   "id": "757bb259",
   "metadata": {},
   "outputs": [],
   "source": [
    "sal=pd.read_csv('salaries.csv')"
   ]
  },
  {
   "cell_type": "markdown",
   "id": "8fb32dec",
   "metadata": {},
   "source": [
    "## Check the head of all three DataFrames"
   ]
  },
  {
   "cell_type": "code",
   "execution_count": 6,
   "id": "93668121",
   "metadata": {},
   "outputs": [
    {
     "data": {
      "text/html": [
       "<div>\n",
       "<style scoped>\n",
       "    .dataframe tbody tr th:only-of-type {\n",
       "        vertical-align: middle;\n",
       "    }\n",
       "\n",
       "    .dataframe tbody tr th {\n",
       "        vertical-align: top;\n",
       "    }\n",
       "\n",
       "    .dataframe thead th {\n",
       "        text-align: right;\n",
       "    }\n",
       "</style>\n",
       "<table border=\"1\" class=\"dataframe\">\n",
       "  <thead>\n",
       "    <tr style=\"text-align: right;\">\n",
       "      <th></th>\n",
       "      <th>emp_no</th>\n",
       "      <th>dept_no</th>\n",
       "      <th>hire_date</th>\n",
       "      <th>leaving_date</th>\n",
       "    </tr>\n",
       "  </thead>\n",
       "  <tbody>\n",
       "    <tr>\n",
       "      <th>0</th>\n",
       "      <td>10001</td>\n",
       "      <td>D5</td>\n",
       "      <td>26/06/2006</td>\n",
       "      <td>NaN</td>\n",
       "    </tr>\n",
       "    <tr>\n",
       "      <th>1</th>\n",
       "      <td>10002</td>\n",
       "      <td>D6</td>\n",
       "      <td>21/11/2005</td>\n",
       "      <td>NaN</td>\n",
       "    </tr>\n",
       "    <tr>\n",
       "      <th>2</th>\n",
       "      <td>10003</td>\n",
       "      <td>D4</td>\n",
       "      <td>28/08/2006</td>\n",
       "      <td>NaN</td>\n",
       "    </tr>\n",
       "    <tr>\n",
       "      <th>3</th>\n",
       "      <td>10004</td>\n",
       "      <td>D4</td>\n",
       "      <td>01/12/2006</td>\n",
       "      <td>NaN</td>\n",
       "    </tr>\n",
       "    <tr>\n",
       "      <th>4</th>\n",
       "      <td>10005</td>\n",
       "      <td>D3</td>\n",
       "      <td>12/09/2009</td>\n",
       "      <td>NaN</td>\n",
       "    </tr>\n",
       "  </tbody>\n",
       "</table>\n",
       "</div>"
      ],
      "text/plain": [
       "   emp_no dept_no   hire_date leaving_date\n",
       "0   10001      D5  26/06/2006          NaN\n",
       "1   10002      D6  21/11/2005          NaN\n",
       "2   10003      D4  28/08/2006          NaN\n",
       "3   10004      D4  01/12/2006          NaN\n",
       "4   10005      D3  12/09/2009          NaN"
      ]
     },
     "execution_count": 6,
     "metadata": {},
     "output_type": "execute_result"
    }
   ],
   "source": [
    "emp.head()"
   ]
  },
  {
   "cell_type": "code",
   "execution_count": 39,
   "id": "0341f14a",
   "metadata": {},
   "outputs": [
    {
     "data": {
      "text/html": [
       "<div>\n",
       "<style scoped>\n",
       "    .dataframe tbody tr th:only-of-type {\n",
       "        vertical-align: middle;\n",
       "    }\n",
       "\n",
       "    .dataframe tbody tr th {\n",
       "        vertical-align: top;\n",
       "    }\n",
       "\n",
       "    .dataframe thead th {\n",
       "        text-align: right;\n",
       "    }\n",
       "</style>\n",
       "<table border=\"1\" class=\"dataframe\">\n",
       "  <thead>\n",
       "    <tr style=\"text-align: right;\">\n",
       "      <th></th>\n",
       "      <th>dept_no</th>\n",
       "      <th>dept_name</th>\n",
       "      <th>location</th>\n",
       "    </tr>\n",
       "  </thead>\n",
       "  <tbody>\n",
       "    <tr>\n",
       "      <th>0</th>\n",
       "      <td>D1</td>\n",
       "      <td>Accounting and Finance</td>\n",
       "      <td>Chicago</td>\n",
       "    </tr>\n",
       "    <tr>\n",
       "      <th>1</th>\n",
       "      <td>D2</td>\n",
       "      <td>Human Resources</td>\n",
       "      <td>New York</td>\n",
       "    </tr>\n",
       "    <tr>\n",
       "      <th>2</th>\n",
       "      <td>D3</td>\n",
       "      <td>Supply Chain Operations</td>\n",
       "      <td>Chicago</td>\n",
       "    </tr>\n",
       "    <tr>\n",
       "      <th>3</th>\n",
       "      <td>D4</td>\n",
       "      <td>Marketing</td>\n",
       "      <td>New York</td>\n",
       "    </tr>\n",
       "    <tr>\n",
       "      <th>4</th>\n",
       "      <td>D5</td>\n",
       "      <td>Technology</td>\n",
       "      <td>Chicago</td>\n",
       "    </tr>\n",
       "  </tbody>\n",
       "</table>\n",
       "</div>"
      ],
      "text/plain": [
       "  dept_no                dept_name  location\n",
       "0      D1   Accounting and Finance   Chicago\n",
       "1      D2          Human Resources  New York\n",
       "2      D3  Supply Chain Operations   Chicago\n",
       "3      D4                Marketing  New York\n",
       "4      D5               Technology   Chicago"
      ]
     },
     "execution_count": 39,
     "metadata": {},
     "output_type": "execute_result"
    }
   ],
   "source": [
    "dept.head()"
   ]
  },
  {
   "cell_type": "code",
   "execution_count": 8,
   "id": "0f29a2b8",
   "metadata": {},
   "outputs": [
    {
     "data": {
      "text/html": [
       "<div>\n",
       "<style scoped>\n",
       "    .dataframe tbody tr th:only-of-type {\n",
       "        vertical-align: middle;\n",
       "    }\n",
       "\n",
       "    .dataframe tbody tr th {\n",
       "        vertical-align: top;\n",
       "    }\n",
       "\n",
       "    .dataframe thead th {\n",
       "        text-align: right;\n",
       "    }\n",
       "</style>\n",
       "<table border=\"1\" class=\"dataframe\">\n",
       "  <thead>\n",
       "    <tr style=\"text-align: right;\">\n",
       "      <th></th>\n",
       "      <th>emp_dept_key</th>\n",
       "      <th>salary</th>\n",
       "    </tr>\n",
       "  </thead>\n",
       "  <tbody>\n",
       "    <tr>\n",
       "      <th>0</th>\n",
       "      <td>10001-D5</td>\n",
       "      <td>30546</td>\n",
       "    </tr>\n",
       "    <tr>\n",
       "      <th>1</th>\n",
       "      <td>10002-D6</td>\n",
       "      <td>36536</td>\n",
       "    </tr>\n",
       "    <tr>\n",
       "      <th>2</th>\n",
       "      <td>10003-D4</td>\n",
       "      <td>38323</td>\n",
       "    </tr>\n",
       "    <tr>\n",
       "      <th>3</th>\n",
       "      <td>10004-D4</td>\n",
       "      <td>31851</td>\n",
       "    </tr>\n",
       "    <tr>\n",
       "      <th>4</th>\n",
       "      <td>10005-D3</td>\n",
       "      <td>53435</td>\n",
       "    </tr>\n",
       "  </tbody>\n",
       "</table>\n",
       "</div>"
      ],
      "text/plain": [
       "  emp_dept_key  salary\n",
       "0     10001-D5   30546\n",
       "1     10002-D6   36536\n",
       "2     10003-D4   38323\n",
       "3     10004-D4   31851\n",
       "4     10005-D3   53435"
      ]
     },
     "execution_count": 8,
     "metadata": {},
     "output_type": "execute_result"
    }
   ],
   "source": [
    "sal.head()"
   ]
  },
  {
   "cell_type": "markdown",
   "id": "28da5020",
   "metadata": {},
   "source": [
    "## Check the data types of all three DataFrames"
   ]
  },
  {
   "cell_type": "code",
   "execution_count": 9,
   "id": "6a2abc46",
   "metadata": {},
   "outputs": [
    {
     "data": {
      "text/plain": [
       "emp_no           int64\n",
       "dept_no         object\n",
       "hire_date       object\n",
       "leaving_date    object\n",
       "dtype: object"
      ]
     },
     "execution_count": 9,
     "metadata": {},
     "output_type": "execute_result"
    }
   ],
   "source": [
    "emp.dtypes"
   ]
  },
  {
   "cell_type": "code",
   "execution_count": 10,
   "id": "044a7762",
   "metadata": {},
   "outputs": [
    {
     "data": {
      "text/plain": [
       "dept_no      object\n",
       "dept_name    object\n",
       "location     object\n",
       "dtype: object"
      ]
     },
     "execution_count": 10,
     "metadata": {},
     "output_type": "execute_result"
    }
   ],
   "source": [
    "dept.dtypes"
   ]
  },
  {
   "cell_type": "code",
   "execution_count": 11,
   "id": "6bfc26f2",
   "metadata": {},
   "outputs": [
    {
     "data": {
      "text/plain": [
       "emp_dept_key    object\n",
       "salary           int64\n",
       "dtype: object"
      ]
     },
     "execution_count": 11,
     "metadata": {},
     "output_type": "execute_result"
    }
   ],
   "source": [
    "sal.dtypes"
   ]
  },
  {
   "cell_type": "markdown",
   "id": "a79b516a",
   "metadata": {},
   "source": [
    "## Change the data types accordingly. \n",
    "\n",
    "• emp_no, dept_no, dept_name, location, emp_depy_key should all be string data types\n",
    "\n",
    "• hire_date and leaving_date should be datetime64\n",
    "\n",
    "• salary should be int64"
   ]
  },
  {
   "cell_type": "code",
   "execution_count": 6,
   "id": "19950392",
   "metadata": {},
   "outputs": [],
   "source": [
    "emp[['emp_no', 'dept_no']]=emp[['emp_no', 'dept_no']].astype('string')"
   ]
  },
  {
   "cell_type": "code",
   "execution_count": 10,
   "id": "6af7f613",
   "metadata": {},
   "outputs": [],
   "source": [
    "emp['hire_date']=pd.to_datetime(emp['hire_date'] , format='%d%m%y')"
   ]
  },
  {
   "cell_type": "code",
   "execution_count": 12,
   "id": "bf86f59a",
   "metadata": {},
   "outputs": [],
   "source": [
    "emp['leaving_date']=pd.to_datetime(emp['leaving_date'] , format='%d%m%y')"
   ]
  },
  {
   "cell_type": "code",
   "execution_count": 13,
   "id": "bfe6f1d5",
   "metadata": {},
   "outputs": [
    {
     "data": {
      "text/plain": [
       "emp_no                  string\n",
       "dept_no                 string\n",
       "hire_date       datetime64[ns]\n",
       "leaving_date    datetime64[ns]\n",
       "dtype: object"
      ]
     },
     "execution_count": 13,
     "metadata": {},
     "output_type": "execute_result"
    }
   ],
   "source": [
    "emp.dtypes"
   ]
  },
  {
   "cell_type": "code",
   "execution_count": null,
   "id": "0285e888",
   "metadata": {},
   "outputs": [],
   "source": []
  },
  {
   "cell_type": "code",
   "execution_count": 14,
   "id": "a4db89cf",
   "metadata": {},
   "outputs": [],
   "source": [
    "dept[['dept_no','dept_name','location']]= dept[['dept_no','dept_name','location']].astype('string')"
   ]
  },
  {
   "cell_type": "code",
   "execution_count": 59,
   "id": "4e830bce",
   "metadata": {},
   "outputs": [
    {
     "data": {
      "text/plain": [
       "dept_no      string\n",
       "dept_name    string\n",
       "location     string\n",
       "dtype: object"
      ]
     },
     "execution_count": 59,
     "metadata": {},
     "output_type": "execute_result"
    }
   ],
   "source": [
    "dept.dtypes"
   ]
  },
  {
   "cell_type": "code",
   "execution_count": null,
   "id": "d2c94e85",
   "metadata": {},
   "outputs": [],
   "source": []
  },
  {
   "cell_type": "code",
   "execution_count": 15,
   "id": "c7f8c1ce",
   "metadata": {},
   "outputs": [],
   "source": [
    "sal['emp_dept_key']= sal['emp_dept_key'].astype('string')"
   ]
  },
  {
   "cell_type": "code",
   "execution_count": 62,
   "id": "30fa0813",
   "metadata": {},
   "outputs": [
    {
     "data": {
      "text/plain": [
       "emp_dept_key    string\n",
       "salary           int64\n",
       "dtype: object"
      ]
     },
     "execution_count": 62,
     "metadata": {},
     "output_type": "execute_result"
    }
   ],
   "source": [
    "sal.dtypes"
   ]
  },
  {
   "cell_type": "markdown",
   "id": "65d13808",
   "metadata": {},
   "source": [
    "## How many employees are currently working at the company. \n",
    "\n",
    "The employees still employed do not have a leaving date value. You can use the isnull() method to identify nulls or NaN values.\n",
    "\n",
    "isnull(): https://pandas.pydata.org/docs/reference/api/pandas.isnull.html"
   ]
  },
  {
   "cell_type": "code",
   "execution_count": 20,
   "id": "f0d6631f",
   "metadata": {},
   "outputs": [
    {
     "data": {
      "text/plain": [
       "0       True\n",
       "1       True\n",
       "2       True\n",
       "3       True\n",
       "4       True\n",
       "       ...  \n",
       "995     True\n",
       "996     True\n",
       "997    False\n",
       "998    False\n",
       "999     True\n",
       "Name: leaving_date, Length: 1000, dtype: bool"
      ]
     },
     "execution_count": 20,
     "metadata": {},
     "output_type": "execute_result"
    }
   ],
   "source": [
    "pd.isnull(emp['leaving_date'])"
   ]
  },
  {
   "cell_type": "code",
   "execution_count": null,
   "id": "cc662b4f",
   "metadata": {},
   "outputs": [],
   "source": [
    "or"
   ]
  },
  {
   "cell_type": "code",
   "execution_count": 67,
   "id": "7c7e2dc5",
   "metadata": {},
   "outputs": [
    {
     "data": {
      "text/plain": [
       "0       True\n",
       "1       True\n",
       "2       True\n",
       "3       True\n",
       "4       True\n",
       "       ...  \n",
       "995     True\n",
       "996     True\n",
       "997    False\n",
       "998    False\n",
       "999     True\n",
       "Name: leaving_date, Length: 1000, dtype: bool"
      ]
     },
     "execution_count": 67,
     "metadata": {},
     "output_type": "execute_result"
    }
   ],
   "source": [
    "emp['leaving_date'].isnull()"
   ]
  },
  {
   "cell_type": "code",
   "execution_count": 65,
   "id": "343c7b8a",
   "metadata": {},
   "outputs": [
    {
     "data": {
      "text/plain": [
       "1000"
      ]
     },
     "execution_count": 65,
     "metadata": {},
     "output_type": "execute_result"
    }
   ],
   "source": [
    "pd.isnull(emp['leaving_date']).count()"
   ]
  },
  {
   "cell_type": "code",
   "execution_count": 73,
   "id": "c0302b82",
   "metadata": {},
   "outputs": [
    {
     "data": {
      "text/plain": [
       "emp_no          741\n",
       "dept_no         741\n",
       "hire_date       741\n",
       "leaving_date      0\n",
       "dtype: int64"
      ]
     },
     "execution_count": 73,
     "metadata": {},
     "output_type": "execute_result"
    }
   ],
   "source": [
    "emp[emp['leaving_date'].isnull()==True].count()"
   ]
  },
  {
   "cell_type": "code",
   "execution_count": null,
   "id": "6a52070d",
   "metadata": {},
   "outputs": [],
   "source": []
  },
  {
   "cell_type": "markdown",
   "id": "c85c8194",
   "metadata": {},
   "source": [
    "## How many currently employed people are there per department."
   ]
  },
  {
   "cell_type": "code",
   "execution_count": 74,
   "id": "6da2fef3",
   "metadata": {},
   "outputs": [],
   "source": [
    "currently_employed=emp[emp['leaving_date'].isnull()==True]"
   ]
  },
  {
   "cell_type": "code",
   "execution_count": 79,
   "id": "32e29479",
   "metadata": {},
   "outputs": [
    {
     "data": {
      "text/plain": [
       "dept_no\n",
       "D1     84\n",
       "D2     36\n",
       "D3     94\n",
       "D4    171\n",
       "D5    188\n",
       "D6    168\n",
       "Name: emp_no, dtype: int64"
      ]
     },
     "execution_count": 79,
     "metadata": {},
     "output_type": "execute_result"
    }
   ],
   "source": [
    "currently_employed.groupby(by='dept_no').count()['emp_no']"
   ]
  },
  {
   "cell_type": "code",
   "execution_count": null,
   "id": "280b1b68",
   "metadata": {},
   "outputs": [],
   "source": []
  },
  {
   "cell_type": "markdown",
   "id": "33c444c9",
   "metadata": {},
   "source": [
    "## Perform a left join on the emp and dept DataFrames (with emp as the left DF). Assign the result of this to the variable emp_dept"
   ]
  },
  {
   "cell_type": "code",
   "execution_count": 16,
   "id": "303407ee",
   "metadata": {},
   "outputs": [],
   "source": [
    "emp_dept=emp.join(dept.set_index('dept_no'), on='dept_no', how='left')"
   ]
  },
  {
   "cell_type": "code",
   "execution_count": 22,
   "id": "8d3211be",
   "metadata": {},
   "outputs": [
    {
     "data": {
      "text/html": [
       "<div>\n",
       "<style scoped>\n",
       "    .dataframe tbody tr th:only-of-type {\n",
       "        vertical-align: middle;\n",
       "    }\n",
       "\n",
       "    .dataframe tbody tr th {\n",
       "        vertical-align: top;\n",
       "    }\n",
       "\n",
       "    .dataframe thead th {\n",
       "        text-align: right;\n",
       "    }\n",
       "</style>\n",
       "<table border=\"1\" class=\"dataframe\">\n",
       "  <thead>\n",
       "    <tr style=\"text-align: right;\">\n",
       "      <th></th>\n",
       "      <th>emp_no</th>\n",
       "      <th>dept_no</th>\n",
       "      <th>hire_date</th>\n",
       "      <th>leaving_date</th>\n",
       "      <th>dept_name</th>\n",
       "      <th>location</th>\n",
       "    </tr>\n",
       "  </thead>\n",
       "  <tbody>\n",
       "    <tr>\n",
       "      <th>0</th>\n",
       "      <td>10001</td>\n",
       "      <td>D5</td>\n",
       "      <td>2006-06-26</td>\n",
       "      <td>NaT</td>\n",
       "      <td>Technology</td>\n",
       "      <td>Chicago</td>\n",
       "    </tr>\n",
       "    <tr>\n",
       "      <th>1</th>\n",
       "      <td>10002</td>\n",
       "      <td>D6</td>\n",
       "      <td>2005-11-21</td>\n",
       "      <td>NaT</td>\n",
       "      <td>Sales</td>\n",
       "      <td>Chicago</td>\n",
       "    </tr>\n",
       "    <tr>\n",
       "      <th>2</th>\n",
       "      <td>10003</td>\n",
       "      <td>D4</td>\n",
       "      <td>2006-08-28</td>\n",
       "      <td>NaT</td>\n",
       "      <td>Marketing</td>\n",
       "      <td>New York</td>\n",
       "    </tr>\n",
       "    <tr>\n",
       "      <th>3</th>\n",
       "      <td>10004</td>\n",
       "      <td>D4</td>\n",
       "      <td>2006-01-12</td>\n",
       "      <td>NaT</td>\n",
       "      <td>Marketing</td>\n",
       "      <td>New York</td>\n",
       "    </tr>\n",
       "    <tr>\n",
       "      <th>4</th>\n",
       "      <td>10005</td>\n",
       "      <td>D3</td>\n",
       "      <td>2009-12-09</td>\n",
       "      <td>NaT</td>\n",
       "      <td>Supply Chain Operations</td>\n",
       "      <td>Chicago</td>\n",
       "    </tr>\n",
       "  </tbody>\n",
       "</table>\n",
       "</div>"
      ],
      "text/plain": [
       "  emp_no dept_no  hire_date leaving_date                dept_name  location\n",
       "0  10001      D5 2006-06-26          NaT               Technology   Chicago\n",
       "1  10002      D6 2005-11-21          NaT                    Sales   Chicago\n",
       "2  10003      D4 2006-08-28          NaT                Marketing  New York\n",
       "3  10004      D4 2006-01-12          NaT                Marketing  New York\n",
       "4  10005      D3 2009-12-09          NaT  Supply Chain Operations   Chicago"
      ]
     },
     "execution_count": 22,
     "metadata": {},
     "output_type": "execute_result"
    }
   ],
   "source": [
    "emp_dept.head()"
   ]
  },
  {
   "cell_type": "markdown",
   "id": "7a05b996",
   "metadata": {},
   "source": [
    "## Perform a left join on the newly created \"emp_dept\" DataFrame and the \"sal\" DataFrame. \n",
    "## Assign this resulting DataFrame to the variable \"emp_dept_sal\"\n",
    "\n",
    "• You will need to think about how to join the two tables. Note the emp_dept_key on the sal DataFrame is in the format 'emp_id-dept_id'"
   ]
  },
  {
   "cell_type": "code",
   "execution_count": 17,
   "id": "149bae74",
   "metadata": {},
   "outputs": [],
   "source": [
    "sal['emp_no']= sal['emp_dept_key'].apply(lambda x:x[:5])"
   ]
  },
  {
   "cell_type": "code",
   "execution_count": 20,
   "id": "0f50b1b1",
   "metadata": {},
   "outputs": [],
   "source": [
    "emp_dept_sal=emp_dept.join(sal.set_index('emp_no'), on='emp_no', how='left')"
   ]
  },
  {
   "cell_type": "code",
   "execution_count": 21,
   "id": "4c72421f",
   "metadata": {},
   "outputs": [
    {
     "data": {
      "text/html": [
       "<div>\n",
       "<style scoped>\n",
       "    .dataframe tbody tr th:only-of-type {\n",
       "        vertical-align: middle;\n",
       "    }\n",
       "\n",
       "    .dataframe tbody tr th {\n",
       "        vertical-align: top;\n",
       "    }\n",
       "\n",
       "    .dataframe thead th {\n",
       "        text-align: right;\n",
       "    }\n",
       "</style>\n",
       "<table border=\"1\" class=\"dataframe\">\n",
       "  <thead>\n",
       "    <tr style=\"text-align: right;\">\n",
       "      <th></th>\n",
       "      <th>emp_no</th>\n",
       "      <th>dept_no</th>\n",
       "      <th>hire_date</th>\n",
       "      <th>leaving_date</th>\n",
       "      <th>dept_name</th>\n",
       "      <th>location</th>\n",
       "      <th>emp_dept_key</th>\n",
       "      <th>salary</th>\n",
       "    </tr>\n",
       "  </thead>\n",
       "  <tbody>\n",
       "    <tr>\n",
       "      <th>0</th>\n",
       "      <td>10001</td>\n",
       "      <td>D5</td>\n",
       "      <td>2006-06-26</td>\n",
       "      <td>NaT</td>\n",
       "      <td>Technology</td>\n",
       "      <td>Chicago</td>\n",
       "      <td>10001-D5</td>\n",
       "      <td>30546</td>\n",
       "    </tr>\n",
       "    <tr>\n",
       "      <th>1</th>\n",
       "      <td>10002</td>\n",
       "      <td>D6</td>\n",
       "      <td>2005-11-21</td>\n",
       "      <td>NaT</td>\n",
       "      <td>Sales</td>\n",
       "      <td>Chicago</td>\n",
       "      <td>10002-D6</td>\n",
       "      <td>36536</td>\n",
       "    </tr>\n",
       "    <tr>\n",
       "      <th>2</th>\n",
       "      <td>10003</td>\n",
       "      <td>D4</td>\n",
       "      <td>2006-08-28</td>\n",
       "      <td>NaT</td>\n",
       "      <td>Marketing</td>\n",
       "      <td>New York</td>\n",
       "      <td>10003-D4</td>\n",
       "      <td>38323</td>\n",
       "    </tr>\n",
       "    <tr>\n",
       "      <th>3</th>\n",
       "      <td>10004</td>\n",
       "      <td>D4</td>\n",
       "      <td>2006-01-12</td>\n",
       "      <td>NaT</td>\n",
       "      <td>Marketing</td>\n",
       "      <td>New York</td>\n",
       "      <td>10004-D4</td>\n",
       "      <td>31851</td>\n",
       "    </tr>\n",
       "    <tr>\n",
       "      <th>4</th>\n",
       "      <td>10005</td>\n",
       "      <td>D3</td>\n",
       "      <td>2009-12-09</td>\n",
       "      <td>NaT</td>\n",
       "      <td>Supply Chain Operations</td>\n",
       "      <td>Chicago</td>\n",
       "      <td>10005-D3</td>\n",
       "      <td>53435</td>\n",
       "    </tr>\n",
       "  </tbody>\n",
       "</table>\n",
       "</div>"
      ],
      "text/plain": [
       "  emp_no dept_no  hire_date leaving_date                dept_name  location  \\\n",
       "0  10001      D5 2006-06-26          NaT               Technology   Chicago   \n",
       "1  10002      D6 2005-11-21          NaT                    Sales   Chicago   \n",
       "2  10003      D4 2006-08-28          NaT                Marketing  New York   \n",
       "3  10004      D4 2006-01-12          NaT                Marketing  New York   \n",
       "4  10005      D3 2009-12-09          NaT  Supply Chain Operations   Chicago   \n",
       "\n",
       "  emp_dept_key  salary  \n",
       "0     10001-D5   30546  \n",
       "1     10002-D6   36536  \n",
       "2     10003-D4   38323  \n",
       "3     10004-D4   31851  \n",
       "4     10005-D3   53435  "
      ]
     },
     "execution_count": 21,
     "metadata": {},
     "output_type": "execute_result"
    }
   ],
   "source": [
    "emp_dept_sal.head()"
   ]
  },
  {
   "cell_type": "code",
   "execution_count": null,
   "id": "630f16ed",
   "metadata": {},
   "outputs": [],
   "source": []
  },
  {
   "cell_type": "markdown",
   "id": "9b12e62d",
   "metadata": {},
   "source": [
    "## Drop the column \"emp_dept_key\""
   ]
  },
  {
   "cell_type": "code",
   "execution_count": 22,
   "id": "52f59025",
   "metadata": {},
   "outputs": [],
   "source": [
    "emp_dept_sal.drop(columns='emp_dept_key', inplace=True)"
   ]
  },
  {
   "cell_type": "code",
   "execution_count": 23,
   "id": "a3c7cf1f",
   "metadata": {},
   "outputs": [
    {
     "data": {
      "text/html": [
       "<div>\n",
       "<style scoped>\n",
       "    .dataframe tbody tr th:only-of-type {\n",
       "        vertical-align: middle;\n",
       "    }\n",
       "\n",
       "    .dataframe tbody tr th {\n",
       "        vertical-align: top;\n",
       "    }\n",
       "\n",
       "    .dataframe thead th {\n",
       "        text-align: right;\n",
       "    }\n",
       "</style>\n",
       "<table border=\"1\" class=\"dataframe\">\n",
       "  <thead>\n",
       "    <tr style=\"text-align: right;\">\n",
       "      <th></th>\n",
       "      <th>emp_no</th>\n",
       "      <th>dept_no</th>\n",
       "      <th>hire_date</th>\n",
       "      <th>leaving_date</th>\n",
       "      <th>dept_name</th>\n",
       "      <th>location</th>\n",
       "      <th>salary</th>\n",
       "    </tr>\n",
       "  </thead>\n",
       "  <tbody>\n",
       "    <tr>\n",
       "      <th>0</th>\n",
       "      <td>10001</td>\n",
       "      <td>D5</td>\n",
       "      <td>2006-06-26</td>\n",
       "      <td>NaT</td>\n",
       "      <td>Technology</td>\n",
       "      <td>Chicago</td>\n",
       "      <td>30546</td>\n",
       "    </tr>\n",
       "    <tr>\n",
       "      <th>1</th>\n",
       "      <td>10002</td>\n",
       "      <td>D6</td>\n",
       "      <td>2005-11-21</td>\n",
       "      <td>NaT</td>\n",
       "      <td>Sales</td>\n",
       "      <td>Chicago</td>\n",
       "      <td>36536</td>\n",
       "    </tr>\n",
       "    <tr>\n",
       "      <th>2</th>\n",
       "      <td>10003</td>\n",
       "      <td>D4</td>\n",
       "      <td>2006-08-28</td>\n",
       "      <td>NaT</td>\n",
       "      <td>Marketing</td>\n",
       "      <td>New York</td>\n",
       "      <td>38323</td>\n",
       "    </tr>\n",
       "    <tr>\n",
       "      <th>3</th>\n",
       "      <td>10004</td>\n",
       "      <td>D4</td>\n",
       "      <td>2006-01-12</td>\n",
       "      <td>NaT</td>\n",
       "      <td>Marketing</td>\n",
       "      <td>New York</td>\n",
       "      <td>31851</td>\n",
       "    </tr>\n",
       "    <tr>\n",
       "      <th>4</th>\n",
       "      <td>10005</td>\n",
       "      <td>D3</td>\n",
       "      <td>2009-12-09</td>\n",
       "      <td>NaT</td>\n",
       "      <td>Supply Chain Operations</td>\n",
       "      <td>Chicago</td>\n",
       "      <td>53435</td>\n",
       "    </tr>\n",
       "    <tr>\n",
       "      <th>...</th>\n",
       "      <td>...</td>\n",
       "      <td>...</td>\n",
       "      <td>...</td>\n",
       "      <td>...</td>\n",
       "      <td>...</td>\n",
       "      <td>...</td>\n",
       "      <td>...</td>\n",
       "    </tr>\n",
       "    <tr>\n",
       "      <th>997</th>\n",
       "      <td>10905</td>\n",
       "      <td>D4</td>\n",
       "      <td>2005-02-28</td>\n",
       "      <td>2006-07-03</td>\n",
       "      <td>Marketing</td>\n",
       "      <td>New York</td>\n",
       "      <td>32735</td>\n",
       "    </tr>\n",
       "    <tr>\n",
       "      <th>998</th>\n",
       "      <td>10906</td>\n",
       "      <td>D2</td>\n",
       "      <td>2014-01-20</td>\n",
       "      <td>2021-04-25</td>\n",
       "      <td>Human Resources</td>\n",
       "      <td>New York</td>\n",
       "      <td>29095</td>\n",
       "    </tr>\n",
       "    <tr>\n",
       "      <th>998</th>\n",
       "      <td>10906</td>\n",
       "      <td>D2</td>\n",
       "      <td>2014-01-20</td>\n",
       "      <td>2021-04-25</td>\n",
       "      <td>Human Resources</td>\n",
       "      <td>New York</td>\n",
       "      <td>97330</td>\n",
       "    </tr>\n",
       "    <tr>\n",
       "      <th>999</th>\n",
       "      <td>10906</td>\n",
       "      <td>D6</td>\n",
       "      <td>2014-01-20</td>\n",
       "      <td>NaT</td>\n",
       "      <td>Sales</td>\n",
       "      <td>Chicago</td>\n",
       "      <td>29095</td>\n",
       "    </tr>\n",
       "    <tr>\n",
       "      <th>999</th>\n",
       "      <td>10906</td>\n",
       "      <td>D6</td>\n",
       "      <td>2014-01-20</td>\n",
       "      <td>NaT</td>\n",
       "      <td>Sales</td>\n",
       "      <td>Chicago</td>\n",
       "      <td>97330</td>\n",
       "    </tr>\n",
       "  </tbody>\n",
       "</table>\n",
       "<p>1188 rows × 7 columns</p>\n",
       "</div>"
      ],
      "text/plain": [
       "    emp_no dept_no  hire_date leaving_date                dept_name  location  \\\n",
       "0    10001      D5 2006-06-26          NaT               Technology   Chicago   \n",
       "1    10002      D6 2005-11-21          NaT                    Sales   Chicago   \n",
       "2    10003      D4 2006-08-28          NaT                Marketing  New York   \n",
       "3    10004      D4 2006-01-12          NaT                Marketing  New York   \n",
       "4    10005      D3 2009-12-09          NaT  Supply Chain Operations   Chicago   \n",
       "..     ...     ...        ...          ...                      ...       ...   \n",
       "997  10905      D4 2005-02-28   2006-07-03                Marketing  New York   \n",
       "998  10906      D2 2014-01-20   2021-04-25          Human Resources  New York   \n",
       "998  10906      D2 2014-01-20   2021-04-25          Human Resources  New York   \n",
       "999  10906      D6 2014-01-20          NaT                    Sales   Chicago   \n",
       "999  10906      D6 2014-01-20          NaT                    Sales   Chicago   \n",
       "\n",
       "     salary  \n",
       "0     30546  \n",
       "1     36536  \n",
       "2     38323  \n",
       "3     31851  \n",
       "4     53435  \n",
       "..      ...  \n",
       "997   32735  \n",
       "998   29095  \n",
       "998   97330  \n",
       "999   29095  \n",
       "999   97330  \n",
       "\n",
       "[1188 rows x 7 columns]"
      ]
     },
     "execution_count": 23,
     "metadata": {},
     "output_type": "execute_result"
    }
   ],
   "source": [
    "emp_dept_sal"
   ]
  },
  {
   "cell_type": "markdown",
   "id": "2508f97b",
   "metadata": {},
   "source": [
    "## What is the average salary per department?"
   ]
  },
  {
   "cell_type": "code",
   "execution_count": 39,
   "id": "081517c0",
   "metadata": {},
   "outputs": [],
   "source": [
    "avg_sal=emp_dept_sal.groupby(by='dept_name').mean('sal')"
   ]
  },
  {
   "cell_type": "code",
   "execution_count": 40,
   "id": "67db2738",
   "metadata": {},
   "outputs": [
    {
     "data": {
      "text/html": [
       "<div>\n",
       "<style scoped>\n",
       "    .dataframe tbody tr th:only-of-type {\n",
       "        vertical-align: middle;\n",
       "    }\n",
       "\n",
       "    .dataframe tbody tr th {\n",
       "        vertical-align: top;\n",
       "    }\n",
       "\n",
       "    .dataframe thead th {\n",
       "        text-align: right;\n",
       "    }\n",
       "</style>\n",
       "<table border=\"1\" class=\"dataframe\">\n",
       "  <thead>\n",
       "    <tr style=\"text-align: right;\">\n",
       "      <th></th>\n",
       "      <th>salary</th>\n",
       "    </tr>\n",
       "    <tr>\n",
       "      <th>dept_name</th>\n",
       "      <th></th>\n",
       "    </tr>\n",
       "  </thead>\n",
       "  <tbody>\n",
       "    <tr>\n",
       "      <th>Accounting and Finance</th>\n",
       "      <td>52148.887324</td>\n",
       "    </tr>\n",
       "    <tr>\n",
       "      <th>Human Resources</th>\n",
       "      <td>44849.602740</td>\n",
       "    </tr>\n",
       "    <tr>\n",
       "      <th>Marketing</th>\n",
       "      <td>41540.041985</td>\n",
       "    </tr>\n",
       "    <tr>\n",
       "      <th>Sales</th>\n",
       "      <td>59192.053640</td>\n",
       "    </tr>\n",
       "    <tr>\n",
       "      <th>Supply Chain Operations</th>\n",
       "      <td>45183.788462</td>\n",
       "    </tr>\n",
       "    <tr>\n",
       "      <th>Technology</th>\n",
       "      <td>58975.979592</td>\n",
       "    </tr>\n",
       "  </tbody>\n",
       "</table>\n",
       "</div>"
      ],
      "text/plain": [
       "                               salary\n",
       "dept_name                            \n",
       "Accounting and Finance   52148.887324\n",
       "Human Resources          44849.602740\n",
       "Marketing                41540.041985\n",
       "Sales                    59192.053640\n",
       "Supply Chain Operations  45183.788462\n",
       "Technology               58975.979592"
      ]
     },
     "execution_count": 40,
     "metadata": {},
     "output_type": "execute_result"
    }
   ],
   "source": [
    "avg_sal"
   ]
  },
  {
   "cell_type": "markdown",
   "id": "41a888e9",
   "metadata": {},
   "source": [
    "## What is the average salary by location?"
   ]
  },
  {
   "cell_type": "code",
   "execution_count": 41,
   "id": "77f7e365",
   "metadata": {},
   "outputs": [],
   "source": [
    "avgsal_loca=emp_dept_sal.groupby(by='location').mean('sal')"
   ]
  },
  {
   "cell_type": "code",
   "execution_count": 42,
   "id": "f15d65b3",
   "metadata": {},
   "outputs": [
    {
     "data": {
      "text/html": [
       "<div>\n",
       "<style scoped>\n",
       "    .dataframe tbody tr th:only-of-type {\n",
       "        vertical-align: middle;\n",
       "    }\n",
       "\n",
       "    .dataframe tbody tr th {\n",
       "        vertical-align: top;\n",
       "    }\n",
       "\n",
       "    .dataframe thead th {\n",
       "        text-align: right;\n",
       "    }\n",
       "</style>\n",
       "<table border=\"1\" class=\"dataframe\">\n",
       "  <thead>\n",
       "    <tr style=\"text-align: right;\">\n",
       "      <th></th>\n",
       "      <th>salary</th>\n",
       "    </tr>\n",
       "    <tr>\n",
       "      <th>location</th>\n",
       "      <th></th>\n",
       "    </tr>\n",
       "  </thead>\n",
       "  <tbody>\n",
       "    <tr>\n",
       "      <th>Chicago</th>\n",
       "      <td>55383.208675</td>\n",
       "    </tr>\n",
       "    <tr>\n",
       "      <th>New York</th>\n",
       "      <td>42261.229851</td>\n",
       "    </tr>\n",
       "  </tbody>\n",
       "</table>\n",
       "</div>"
      ],
      "text/plain": [
       "                salary\n",
       "location              \n",
       "Chicago   55383.208675\n",
       "New York  42261.229851"
      ]
     },
     "execution_count": 42,
     "metadata": {},
     "output_type": "execute_result"
    }
   ],
   "source": [
    "avgsal_loca"
   ]
  },
  {
   "cell_type": "markdown",
   "id": "a353f8f3",
   "metadata": {},
   "source": [
    "## How many people were hired each year in each of the last 10 years?"
   ]
  },
  {
   "cell_type": "code",
   "execution_count": 26,
   "id": "bf7cc346",
   "metadata": {},
   "outputs": [
    {
     "data": {
      "text/html": [
       "<div>\n",
       "<style scoped>\n",
       "    .dataframe tbody tr th:only-of-type {\n",
       "        vertical-align: middle;\n",
       "    }\n",
       "\n",
       "    .dataframe tbody tr th {\n",
       "        vertical-align: top;\n",
       "    }\n",
       "\n",
       "    .dataframe thead th {\n",
       "        text-align: right;\n",
       "    }\n",
       "</style>\n",
       "<table border=\"1\" class=\"dataframe\">\n",
       "  <thead>\n",
       "    <tr style=\"text-align: right;\">\n",
       "      <th></th>\n",
       "      <th>emp_no</th>\n",
       "    </tr>\n",
       "    <tr>\n",
       "      <th>hire_date</th>\n",
       "      <th></th>\n",
       "    </tr>\n",
       "  </thead>\n",
       "  <tbody>\n",
       "    <tr>\n",
       "      <th>2018-06-09</th>\n",
       "      <td>1</td>\n",
       "    </tr>\n",
       "    <tr>\n",
       "      <th>2018-06-10</th>\n",
       "      <td>1</td>\n",
       "    </tr>\n",
       "    <tr>\n",
       "      <th>2018-07-10</th>\n",
       "      <td>1</td>\n",
       "    </tr>\n",
       "    <tr>\n",
       "      <th>2018-07-13</th>\n",
       "      <td>1</td>\n",
       "    </tr>\n",
       "    <tr>\n",
       "      <th>2018-08-18</th>\n",
       "      <td>1</td>\n",
       "    </tr>\n",
       "    <tr>\n",
       "      <th>2018-10-16</th>\n",
       "      <td>1</td>\n",
       "    </tr>\n",
       "    <tr>\n",
       "      <th>2019-03-23</th>\n",
       "      <td>1</td>\n",
       "    </tr>\n",
       "    <tr>\n",
       "      <th>2019-03-30</th>\n",
       "      <td>4</td>\n",
       "    </tr>\n",
       "    <tr>\n",
       "      <th>2019-04-30</th>\n",
       "      <td>1</td>\n",
       "    </tr>\n",
       "    <tr>\n",
       "      <th>2019-10-28</th>\n",
       "      <td>1</td>\n",
       "    </tr>\n",
       "  </tbody>\n",
       "</table>\n",
       "</div>"
      ],
      "text/plain": [
       "            emp_no\n",
       "hire_date         \n",
       "2018-06-09       1\n",
       "2018-06-10       1\n",
       "2018-07-10       1\n",
       "2018-07-13       1\n",
       "2018-08-18       1\n",
       "2018-10-16       1\n",
       "2019-03-23       1\n",
       "2019-03-30       4\n",
       "2019-04-30       1\n",
       "2019-10-28       1"
      ]
     },
     "execution_count": 26,
     "metadata": {},
     "output_type": "execute_result"
    }
   ],
   "source": [
    "pd.pivot_table(data=emp_dept_sal,index='hire_date',aggfunc='count',values='emp_no').tail(10)"
   ]
  },
  {
   "cell_type": "code",
   "execution_count": null,
   "id": "050f81b7",
   "metadata": {},
   "outputs": [],
   "source": []
  }
 ],
 "metadata": {
  "kernelspec": {
   "display_name": "Python 3 (ipykernel)",
   "language": "python",
   "name": "python3"
  },
  "language_info": {
   "codemirror_mode": {
    "name": "ipython",
    "version": 3
   },
   "file_extension": ".py",
   "mimetype": "text/x-python",
   "name": "python",
   "nbconvert_exporter": "python",
   "pygments_lexer": "ipython3",
   "version": "3.10.9"
  }
 },
 "nbformat": 4,
 "nbformat_minor": 5
}
